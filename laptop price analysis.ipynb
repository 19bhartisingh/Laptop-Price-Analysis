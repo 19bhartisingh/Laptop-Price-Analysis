{
 "cells": [
  {
   "cell_type": "code",
   "execution_count": 1,
   "id": "c097eea5",
   "metadata": {},
   "outputs": [],
   "source": [
    "import pandas as pd\n",
    "import numpy as np\n",
    "from urllib.request import urlretrieve\n",
    "import seaborn as sns\n",
    "from scipy import stats\n",
    "from sklearn.linear_model import LinearRegression\n",
    "from sklearn.preprocessing import StandardScaler,PolynomialFeatures\n",
    "from sklearn.pipeline import Pipeline\n",
    "from sklearn.metrics import mean_squared_error,r2_score\n",
    "import warnings\n",
    "warnings.filterwarnings(\"ignore\",category=UserWarning)\n",
    "%matplotlib inline\n"
   ]
  },
  {
   "cell_type": "code",
   "execution_count": 2,
   "id": "2daa916a",
   "metadata": {},
   "outputs": [],
   "source": [
    "laptop_price_url= \"https://cf-courses-data.s3.us.cloud-object-storage.appdomain.cloud/IBMDeveloperSkillsNetwork-DA0101EN-Coursera/laptop_pricing_dataset_base.csv\""
   ]
  },
  {
   "cell_type": "code",
   "execution_count": 3,
   "id": "57cab700",
   "metadata": {},
   "outputs": [
    {
     "data": {
      "text/plain": [
       "('laptopprice.csv', <http.client.HTTPMessage at 0x208c4682090>)"
      ]
     },
     "execution_count": 3,
     "metadata": {},
     "output_type": "execute_result"
    }
   ],
   "source": [
    "urlretrieve(laptop_price_url,'laptopprice.csv')"
   ]
  },
  {
   "cell_type": "code",
   "execution_count": 4,
   "id": "7ae18fef",
   "metadata": {},
   "outputs": [],
   "source": [
    "df=pd.read_csv(\"laptopprice.csv\")"
   ]
  },
  {
   "cell_type": "code",
   "execution_count": 5,
   "id": "6fc92cbe",
   "metadata": {},
   "outputs": [
    {
     "data": {
      "text/html": [
       "<div>\n",
       "<style scoped>\n",
       "    .dataframe tbody tr th:only-of-type {\n",
       "        vertical-align: middle;\n",
       "    }\n",
       "\n",
       "    .dataframe tbody tr th {\n",
       "        vertical-align: top;\n",
       "    }\n",
       "\n",
       "    .dataframe thead th {\n",
       "        text-align: right;\n",
       "    }\n",
       "</style>\n",
       "<table border=\"1\" class=\"dataframe\">\n",
       "  <thead>\n",
       "    <tr style=\"text-align: right;\">\n",
       "      <th></th>\n",
       "      <th>Acer</th>\n",
       "      <th>4</th>\n",
       "      <th>IPS Panel</th>\n",
       "      <th>2</th>\n",
       "      <th>1</th>\n",
       "      <th>5</th>\n",
       "      <th>35.56</th>\n",
       "      <th>1.6</th>\n",
       "      <th>8</th>\n",
       "      <th>256</th>\n",
       "      <th>1.6.1</th>\n",
       "      <th>978</th>\n",
       "    </tr>\n",
       "  </thead>\n",
       "  <tbody>\n",
       "    <tr>\n",
       "      <th>0</th>\n",
       "      <td>Dell</td>\n",
       "      <td>3</td>\n",
       "      <td>Full HD</td>\n",
       "      <td>1</td>\n",
       "      <td>1</td>\n",
       "      <td>3</td>\n",
       "      <td>39.624</td>\n",
       "      <td>2.0</td>\n",
       "      <td>4</td>\n",
       "      <td>256</td>\n",
       "      <td>2.2</td>\n",
       "      <td>634</td>\n",
       "    </tr>\n",
       "    <tr>\n",
       "      <th>1</th>\n",
       "      <td>Dell</td>\n",
       "      <td>3</td>\n",
       "      <td>Full HD</td>\n",
       "      <td>1</td>\n",
       "      <td>1</td>\n",
       "      <td>7</td>\n",
       "      <td>39.624</td>\n",
       "      <td>2.7</td>\n",
       "      <td>8</td>\n",
       "      <td>256</td>\n",
       "      <td>2.2</td>\n",
       "      <td>946</td>\n",
       "    </tr>\n",
       "    <tr>\n",
       "      <th>2</th>\n",
       "      <td>Dell</td>\n",
       "      <td>4</td>\n",
       "      <td>IPS Panel</td>\n",
       "      <td>2</td>\n",
       "      <td>1</td>\n",
       "      <td>5</td>\n",
       "      <td>33.782</td>\n",
       "      <td>1.6</td>\n",
       "      <td>8</td>\n",
       "      <td>128</td>\n",
       "      <td>1.22</td>\n",
       "      <td>1244</td>\n",
       "    </tr>\n",
       "    <tr>\n",
       "      <th>3</th>\n",
       "      <td>HP</td>\n",
       "      <td>4</td>\n",
       "      <td>Full HD</td>\n",
       "      <td>2</td>\n",
       "      <td>1</td>\n",
       "      <td>7</td>\n",
       "      <td>39.624</td>\n",
       "      <td>1.8</td>\n",
       "      <td>8</td>\n",
       "      <td>256</td>\n",
       "      <td>1.91</td>\n",
       "      <td>837</td>\n",
       "    </tr>\n",
       "    <tr>\n",
       "      <th>4</th>\n",
       "      <td>Dell</td>\n",
       "      <td>3</td>\n",
       "      <td>Full HD</td>\n",
       "      <td>1</td>\n",
       "      <td>1</td>\n",
       "      <td>5</td>\n",
       "      <td>39.624</td>\n",
       "      <td>1.6</td>\n",
       "      <td>8</td>\n",
       "      <td>256</td>\n",
       "      <td>2.2</td>\n",
       "      <td>1016</td>\n",
       "    </tr>\n",
       "  </tbody>\n",
       "</table>\n",
       "</div>"
      ],
      "text/plain": [
       "   Acer  4  IPS Panel  2  1  5   35.56  1.6  8  256 1.6.1   978\n",
       "0  Dell  3    Full HD  1  1  3  39.624  2.0  4  256   2.2   634\n",
       "1  Dell  3    Full HD  1  1  7  39.624  2.7  8  256   2.2   946\n",
       "2  Dell  4  IPS Panel  2  1  5  33.782  1.6  8  128  1.22  1244\n",
       "3    HP  4    Full HD  2  1  7  39.624  1.8  8  256  1.91   837\n",
       "4  Dell  3    Full HD  1  1  5  39.624  1.6  8  256   2.2  1016"
      ]
     },
     "execution_count": 5,
     "metadata": {},
     "output_type": "execute_result"
    }
   ],
   "source": [
    "df.head()"
   ]
  },
  {
   "cell_type": "code",
   "execution_count": 6,
   "id": "6e9ed8ec",
   "metadata": {},
   "outputs": [],
   "source": [
    "headers=['Manufacturer','Category','Screen','GPU','OS','Cpu_core','Screen_Size_inch','Cpu_frequency','RAM_GB','Stroage_GB_SSD','Weight_kg','Price']"
   ]
  },
  {
   "cell_type": "code",
   "execution_count": 7,
   "id": "78a7c961",
   "metadata": {},
   "outputs": [],
   "source": [
    "df.columns=headers"
   ]
  },
  {
   "cell_type": "code",
   "execution_count": 8,
   "id": "dbf67e91",
   "metadata": {},
   "outputs": [
    {
     "data": {
      "text/html": [
       "<div>\n",
       "<style scoped>\n",
       "    .dataframe tbody tr th:only-of-type {\n",
       "        vertical-align: middle;\n",
       "    }\n",
       "\n",
       "    .dataframe tbody tr th {\n",
       "        vertical-align: top;\n",
       "    }\n",
       "\n",
       "    .dataframe thead th {\n",
       "        text-align: right;\n",
       "    }\n",
       "</style>\n",
       "<table border=\"1\" class=\"dataframe\">\n",
       "  <thead>\n",
       "    <tr style=\"text-align: right;\">\n",
       "      <th></th>\n",
       "      <th>Manufacturer</th>\n",
       "      <th>Category</th>\n",
       "      <th>Screen</th>\n",
       "      <th>GPU</th>\n",
       "      <th>OS</th>\n",
       "      <th>Cpu_core</th>\n",
       "      <th>Screen_Size_inch</th>\n",
       "      <th>Cpu_frequency</th>\n",
       "      <th>RAM_GB</th>\n",
       "      <th>Stroage_GB_SSD</th>\n",
       "      <th>Weight_kg</th>\n",
       "      <th>Price</th>\n",
       "    </tr>\n",
       "  </thead>\n",
       "  <tbody>\n",
       "    <tr>\n",
       "      <th>0</th>\n",
       "      <td>Dell</td>\n",
       "      <td>3</td>\n",
       "      <td>Full HD</td>\n",
       "      <td>1</td>\n",
       "      <td>1</td>\n",
       "      <td>3</td>\n",
       "      <td>39.624</td>\n",
       "      <td>2.0</td>\n",
       "      <td>4</td>\n",
       "      <td>256</td>\n",
       "      <td>2.2</td>\n",
       "      <td>634</td>\n",
       "    </tr>\n",
       "    <tr>\n",
       "      <th>1</th>\n",
       "      <td>Dell</td>\n",
       "      <td>3</td>\n",
       "      <td>Full HD</td>\n",
       "      <td>1</td>\n",
       "      <td>1</td>\n",
       "      <td>7</td>\n",
       "      <td>39.624</td>\n",
       "      <td>2.7</td>\n",
       "      <td>8</td>\n",
       "      <td>256</td>\n",
       "      <td>2.2</td>\n",
       "      <td>946</td>\n",
       "    </tr>\n",
       "    <tr>\n",
       "      <th>2</th>\n",
       "      <td>Dell</td>\n",
       "      <td>4</td>\n",
       "      <td>IPS Panel</td>\n",
       "      <td>2</td>\n",
       "      <td>1</td>\n",
       "      <td>5</td>\n",
       "      <td>33.782</td>\n",
       "      <td>1.6</td>\n",
       "      <td>8</td>\n",
       "      <td>128</td>\n",
       "      <td>1.22</td>\n",
       "      <td>1244</td>\n",
       "    </tr>\n",
       "    <tr>\n",
       "      <th>3</th>\n",
       "      <td>HP</td>\n",
       "      <td>4</td>\n",
       "      <td>Full HD</td>\n",
       "      <td>2</td>\n",
       "      <td>1</td>\n",
       "      <td>7</td>\n",
       "      <td>39.624</td>\n",
       "      <td>1.8</td>\n",
       "      <td>8</td>\n",
       "      <td>256</td>\n",
       "      <td>1.91</td>\n",
       "      <td>837</td>\n",
       "    </tr>\n",
       "    <tr>\n",
       "      <th>4</th>\n",
       "      <td>Dell</td>\n",
       "      <td>3</td>\n",
       "      <td>Full HD</td>\n",
       "      <td>1</td>\n",
       "      <td>1</td>\n",
       "      <td>5</td>\n",
       "      <td>39.624</td>\n",
       "      <td>1.6</td>\n",
       "      <td>8</td>\n",
       "      <td>256</td>\n",
       "      <td>2.2</td>\n",
       "      <td>1016</td>\n",
       "    </tr>\n",
       "  </tbody>\n",
       "</table>\n",
       "</div>"
      ],
      "text/plain": [
       "  Manufacturer  Category     Screen  GPU  OS  Cpu_core Screen_Size_inch  \\\n",
       "0         Dell         3    Full HD    1   1         3           39.624   \n",
       "1         Dell         3    Full HD    1   1         7           39.624   \n",
       "2         Dell         4  IPS Panel    2   1         5           33.782   \n",
       "3           HP         4    Full HD    2   1         7           39.624   \n",
       "4         Dell         3    Full HD    1   1         5           39.624   \n",
       "\n",
       "   Cpu_frequency  RAM_GB  Stroage_GB_SSD Weight_kg  Price  \n",
       "0            2.0       4             256       2.2    634  \n",
       "1            2.7       8             256       2.2    946  \n",
       "2            1.6       8             128      1.22   1244  \n",
       "3            1.8       8             256      1.91    837  \n",
       "4            1.6       8             256       2.2   1016  "
      ]
     },
     "execution_count": 8,
     "metadata": {},
     "output_type": "execute_result"
    }
   ],
   "source": [
    "df.head()"
   ]
  },
  {
   "cell_type": "code",
   "execution_count": 9,
   "id": "e4085960",
   "metadata": {},
   "outputs": [],
   "source": [
    "df.replace('?',np.nan,inplace=True)"
   ]
  },
  {
   "cell_type": "code",
   "execution_count": 10,
   "id": "531c2985",
   "metadata": {},
   "outputs": [
    {
     "data": {
      "text/plain": [
       "Manufacturer         object\n",
       "Category              int64\n",
       "Screen               object\n",
       "GPU                   int64\n",
       "OS                    int64\n",
       "Cpu_core              int64\n",
       "Screen_Size_inch     object\n",
       "Cpu_frequency       float64\n",
       "RAM_GB                int64\n",
       "Stroage_GB_SSD        int64\n",
       "Weight_kg            object\n",
       "Price                 int64\n",
       "dtype: object"
      ]
     },
     "execution_count": 10,
     "metadata": {},
     "output_type": "execute_result"
    }
   ],
   "source": [
    "df.dtypes"
   ]
  },
  {
   "cell_type": "code",
   "execution_count": 11,
   "id": "dcf7e4c9",
   "metadata": {},
   "outputs": [
    {
     "data": {
      "text/html": [
       "<div>\n",
       "<style scoped>\n",
       "    .dataframe tbody tr th:only-of-type {\n",
       "        vertical-align: middle;\n",
       "    }\n",
       "\n",
       "    .dataframe tbody tr th {\n",
       "        vertical-align: top;\n",
       "    }\n",
       "\n",
       "    .dataframe thead th {\n",
       "        text-align: right;\n",
       "    }\n",
       "</style>\n",
       "<table border=\"1\" class=\"dataframe\">\n",
       "  <thead>\n",
       "    <tr style=\"text-align: right;\">\n",
       "      <th></th>\n",
       "      <th>Manufacturer</th>\n",
       "      <th>Category</th>\n",
       "      <th>Screen</th>\n",
       "      <th>GPU</th>\n",
       "      <th>OS</th>\n",
       "      <th>Cpu_core</th>\n",
       "      <th>Screen_Size_inch</th>\n",
       "      <th>Cpu_frequency</th>\n",
       "      <th>RAM_GB</th>\n",
       "      <th>Stroage_GB_SSD</th>\n",
       "      <th>Weight_kg</th>\n",
       "      <th>Price</th>\n",
       "    </tr>\n",
       "  </thead>\n",
       "  <tbody>\n",
       "    <tr>\n",
       "      <th>count</th>\n",
       "      <td>237</td>\n",
       "      <td>237.000000</td>\n",
       "      <td>237</td>\n",
       "      <td>237.000000</td>\n",
       "      <td>237.000000</td>\n",
       "      <td>237.000000</td>\n",
       "      <td>233</td>\n",
       "      <td>237.000000</td>\n",
       "      <td>237.000000</td>\n",
       "      <td>237.000000</td>\n",
       "      <td>232</td>\n",
       "      <td>237.000000</td>\n",
       "    </tr>\n",
       "    <tr>\n",
       "      <th>unique</th>\n",
       "      <td>11</td>\n",
       "      <td>NaN</td>\n",
       "      <td>2</td>\n",
       "      <td>NaN</td>\n",
       "      <td>NaN</td>\n",
       "      <td>NaN</td>\n",
       "      <td>9</td>\n",
       "      <td>NaN</td>\n",
       "      <td>NaN</td>\n",
       "      <td>NaN</td>\n",
       "      <td>77</td>\n",
       "      <td>NaN</td>\n",
       "    </tr>\n",
       "    <tr>\n",
       "      <th>top</th>\n",
       "      <td>Dell</td>\n",
       "      <td>NaN</td>\n",
       "      <td>Full HD</td>\n",
       "      <td>NaN</td>\n",
       "      <td>NaN</td>\n",
       "      <td>NaN</td>\n",
       "      <td>39.624</td>\n",
       "      <td>NaN</td>\n",
       "      <td>NaN</td>\n",
       "      <td>NaN</td>\n",
       "      <td>2.2</td>\n",
       "      <td>NaN</td>\n",
       "    </tr>\n",
       "    <tr>\n",
       "      <th>freq</th>\n",
       "      <td>71</td>\n",
       "      <td>NaN</td>\n",
       "      <td>161</td>\n",
       "      <td>NaN</td>\n",
       "      <td>NaN</td>\n",
       "      <td>NaN</td>\n",
       "      <td>89</td>\n",
       "      <td>NaN</td>\n",
       "      <td>NaN</td>\n",
       "      <td>NaN</td>\n",
       "      <td>21</td>\n",
       "      <td>NaN</td>\n",
       "    </tr>\n",
       "    <tr>\n",
       "      <th>mean</th>\n",
       "      <td>NaN</td>\n",
       "      <td>3.202532</td>\n",
       "      <td>NaN</td>\n",
       "      <td>2.151899</td>\n",
       "      <td>1.059072</td>\n",
       "      <td>5.632911</td>\n",
       "      <td>NaN</td>\n",
       "      <td>2.363291</td>\n",
       "      <td>7.881857</td>\n",
       "      <td>245.738397</td>\n",
       "      <td>NaN</td>\n",
       "      <td>1464.388186</td>\n",
       "    </tr>\n",
       "    <tr>\n",
       "      <th>std</th>\n",
       "      <td>NaN</td>\n",
       "      <td>0.776450</td>\n",
       "      <td>NaN</td>\n",
       "      <td>0.639556</td>\n",
       "      <td>0.236258</td>\n",
       "      <td>1.243736</td>\n",
       "      <td>NaN</td>\n",
       "      <td>0.409271</td>\n",
       "      <td>2.487845</td>\n",
       "      <td>34.832516</td>\n",
       "      <td>NaN</td>\n",
       "      <td>574.956374</td>\n",
       "    </tr>\n",
       "    <tr>\n",
       "      <th>min</th>\n",
       "      <td>NaN</td>\n",
       "      <td>1.000000</td>\n",
       "      <td>NaN</td>\n",
       "      <td>1.000000</td>\n",
       "      <td>1.000000</td>\n",
       "      <td>3.000000</td>\n",
       "      <td>NaN</td>\n",
       "      <td>1.200000</td>\n",
       "      <td>4.000000</td>\n",
       "      <td>128.000000</td>\n",
       "      <td>NaN</td>\n",
       "      <td>527.000000</td>\n",
       "    </tr>\n",
       "    <tr>\n",
       "      <th>25%</th>\n",
       "      <td>NaN</td>\n",
       "      <td>3.000000</td>\n",
       "      <td>NaN</td>\n",
       "      <td>2.000000</td>\n",
       "      <td>1.000000</td>\n",
       "      <td>5.000000</td>\n",
       "      <td>NaN</td>\n",
       "      <td>2.000000</td>\n",
       "      <td>8.000000</td>\n",
       "      <td>256.000000</td>\n",
       "      <td>NaN</td>\n",
       "      <td>1068.000000</td>\n",
       "    </tr>\n",
       "    <tr>\n",
       "      <th>50%</th>\n",
       "      <td>NaN</td>\n",
       "      <td>3.000000</td>\n",
       "      <td>NaN</td>\n",
       "      <td>2.000000</td>\n",
       "      <td>1.000000</td>\n",
       "      <td>5.000000</td>\n",
       "      <td>NaN</td>\n",
       "      <td>2.500000</td>\n",
       "      <td>8.000000</td>\n",
       "      <td>256.000000</td>\n",
       "      <td>NaN</td>\n",
       "      <td>1333.000000</td>\n",
       "    </tr>\n",
       "    <tr>\n",
       "      <th>75%</th>\n",
       "      <td>NaN</td>\n",
       "      <td>4.000000</td>\n",
       "      <td>NaN</td>\n",
       "      <td>3.000000</td>\n",
       "      <td>1.000000</td>\n",
       "      <td>7.000000</td>\n",
       "      <td>NaN</td>\n",
       "      <td>2.700000</td>\n",
       "      <td>8.000000</td>\n",
       "      <td>256.000000</td>\n",
       "      <td>NaN</td>\n",
       "      <td>1777.000000</td>\n",
       "    </tr>\n",
       "    <tr>\n",
       "      <th>max</th>\n",
       "      <td>NaN</td>\n",
       "      <td>5.000000</td>\n",
       "      <td>NaN</td>\n",
       "      <td>3.000000</td>\n",
       "      <td>2.000000</td>\n",
       "      <td>7.000000</td>\n",
       "      <td>NaN</td>\n",
       "      <td>2.900000</td>\n",
       "      <td>16.000000</td>\n",
       "      <td>256.000000</td>\n",
       "      <td>NaN</td>\n",
       "      <td>3810.000000</td>\n",
       "    </tr>\n",
       "  </tbody>\n",
       "</table>\n",
       "</div>"
      ],
      "text/plain": [
       "       Manufacturer    Category   Screen         GPU          OS    Cpu_core  \\\n",
       "count           237  237.000000      237  237.000000  237.000000  237.000000   \n",
       "unique           11         NaN        2         NaN         NaN         NaN   \n",
       "top            Dell         NaN  Full HD         NaN         NaN         NaN   \n",
       "freq             71         NaN      161         NaN         NaN         NaN   \n",
       "mean            NaN    3.202532      NaN    2.151899    1.059072    5.632911   \n",
       "std             NaN    0.776450      NaN    0.639556    0.236258    1.243736   \n",
       "min             NaN    1.000000      NaN    1.000000    1.000000    3.000000   \n",
       "25%             NaN    3.000000      NaN    2.000000    1.000000    5.000000   \n",
       "50%             NaN    3.000000      NaN    2.000000    1.000000    5.000000   \n",
       "75%             NaN    4.000000      NaN    3.000000    1.000000    7.000000   \n",
       "max             NaN    5.000000      NaN    3.000000    2.000000    7.000000   \n",
       "\n",
       "       Screen_Size_inch  Cpu_frequency      RAM_GB  Stroage_GB_SSD Weight_kg  \\\n",
       "count               233     237.000000  237.000000      237.000000       232   \n",
       "unique                9            NaN         NaN             NaN        77   \n",
       "top              39.624            NaN         NaN             NaN       2.2   \n",
       "freq                 89            NaN         NaN             NaN        21   \n",
       "mean                NaN       2.363291    7.881857      245.738397       NaN   \n",
       "std                 NaN       0.409271    2.487845       34.832516       NaN   \n",
       "min                 NaN       1.200000    4.000000      128.000000       NaN   \n",
       "25%                 NaN       2.000000    8.000000      256.000000       NaN   \n",
       "50%                 NaN       2.500000    8.000000      256.000000       NaN   \n",
       "75%                 NaN       2.700000    8.000000      256.000000       NaN   \n",
       "max                 NaN       2.900000   16.000000      256.000000       NaN   \n",
       "\n",
       "              Price  \n",
       "count    237.000000  \n",
       "unique          NaN  \n",
       "top             NaN  \n",
       "freq            NaN  \n",
       "mean    1464.388186  \n",
       "std      574.956374  \n",
       "min      527.000000  \n",
       "25%     1068.000000  \n",
       "50%     1333.000000  \n",
       "75%     1777.000000  \n",
       "max     3810.000000  "
      ]
     },
     "execution_count": 11,
     "metadata": {},
     "output_type": "execute_result"
    }
   ],
   "source": [
    "df.describe(include='all')"
   ]
  },
  {
   "cell_type": "code",
   "execution_count": 12,
   "id": "dffcf5bc",
   "metadata": {},
   "outputs": [
    {
     "name": "stdout",
     "output_type": "stream",
     "text": [
      "<class 'pandas.core.frame.DataFrame'>\n",
      "RangeIndex: 237 entries, 0 to 236\n",
      "Data columns (total 12 columns):\n",
      " #   Column            Non-Null Count  Dtype  \n",
      "---  ------            --------------  -----  \n",
      " 0   Manufacturer      237 non-null    object \n",
      " 1   Category          237 non-null    int64  \n",
      " 2   Screen            237 non-null    object \n",
      " 3   GPU               237 non-null    int64  \n",
      " 4   OS                237 non-null    int64  \n",
      " 5   Cpu_core          237 non-null    int64  \n",
      " 6   Screen_Size_inch  233 non-null    object \n",
      " 7   Cpu_frequency     237 non-null    float64\n",
      " 8   RAM_GB            237 non-null    int64  \n",
      " 9   Stroage_GB_SSD    237 non-null    int64  \n",
      " 10  Weight_kg         232 non-null    object \n",
      " 11  Price             237 non-null    int64  \n",
      "dtypes: float64(1), int64(7), object(4)\n",
      "memory usage: 22.3+ KB\n"
     ]
    }
   ],
   "source": [
    "df.info()"
   ]
  },
  {
   "cell_type": "code",
   "execution_count": 13,
   "id": "deced489",
   "metadata": {},
   "outputs": [],
   "source": [
    "import matplotlib.pyplot as plt\n",
    "%matplotlib inline"
   ]
  },
  {
   "cell_type": "code",
   "execution_count": 14,
   "id": "bfa862da",
   "metadata": {},
   "outputs": [
    {
     "data": {
      "text/html": [
       "<div>\n",
       "<style scoped>\n",
       "    .dataframe tbody tr th:only-of-type {\n",
       "        vertical-align: middle;\n",
       "    }\n",
       "\n",
       "    .dataframe tbody tr th {\n",
       "        vertical-align: top;\n",
       "    }\n",
       "\n",
       "    .dataframe thead th {\n",
       "        text-align: right;\n",
       "    }\n",
       "</style>\n",
       "<table border=\"1\" class=\"dataframe\">\n",
       "  <thead>\n",
       "    <tr style=\"text-align: right;\">\n",
       "      <th></th>\n",
       "      <th>Manufacturer</th>\n",
       "      <th>Category</th>\n",
       "      <th>Screen</th>\n",
       "      <th>GPU</th>\n",
       "      <th>OS</th>\n",
       "      <th>Cpu_core</th>\n",
       "      <th>Screen_Size_inch</th>\n",
       "      <th>Cpu_frequency</th>\n",
       "      <th>RAM_GB</th>\n",
       "      <th>Stroage_GB_SSD</th>\n",
       "      <th>Weight_kg</th>\n",
       "      <th>Price</th>\n",
       "    </tr>\n",
       "  </thead>\n",
       "  <tbody>\n",
       "    <tr>\n",
       "      <th>0</th>\n",
       "      <td>Dell</td>\n",
       "      <td>3</td>\n",
       "      <td>Full HD</td>\n",
       "      <td>1</td>\n",
       "      <td>1</td>\n",
       "      <td>3</td>\n",
       "      <td>39.624</td>\n",
       "      <td>2.0</td>\n",
       "      <td>4</td>\n",
       "      <td>256</td>\n",
       "      <td>2.2</td>\n",
       "      <td>634</td>\n",
       "    </tr>\n",
       "    <tr>\n",
       "      <th>1</th>\n",
       "      <td>Dell</td>\n",
       "      <td>3</td>\n",
       "      <td>Full HD</td>\n",
       "      <td>1</td>\n",
       "      <td>1</td>\n",
       "      <td>7</td>\n",
       "      <td>39.624</td>\n",
       "      <td>2.7</td>\n",
       "      <td>8</td>\n",
       "      <td>256</td>\n",
       "      <td>2.2</td>\n",
       "      <td>946</td>\n",
       "    </tr>\n",
       "    <tr>\n",
       "      <th>2</th>\n",
       "      <td>Dell</td>\n",
       "      <td>4</td>\n",
       "      <td>IPS Panel</td>\n",
       "      <td>2</td>\n",
       "      <td>1</td>\n",
       "      <td>5</td>\n",
       "      <td>33.782</td>\n",
       "      <td>1.6</td>\n",
       "      <td>8</td>\n",
       "      <td>128</td>\n",
       "      <td>1.22</td>\n",
       "      <td>1244</td>\n",
       "    </tr>\n",
       "    <tr>\n",
       "      <th>3</th>\n",
       "      <td>HP</td>\n",
       "      <td>4</td>\n",
       "      <td>Full HD</td>\n",
       "      <td>2</td>\n",
       "      <td>1</td>\n",
       "      <td>7</td>\n",
       "      <td>39.624</td>\n",
       "      <td>1.8</td>\n",
       "      <td>8</td>\n",
       "      <td>256</td>\n",
       "      <td>1.91</td>\n",
       "      <td>837</td>\n",
       "    </tr>\n",
       "    <tr>\n",
       "      <th>4</th>\n",
       "      <td>Dell</td>\n",
       "      <td>3</td>\n",
       "      <td>Full HD</td>\n",
       "      <td>1</td>\n",
       "      <td>1</td>\n",
       "      <td>5</td>\n",
       "      <td>39.624</td>\n",
       "      <td>1.6</td>\n",
       "      <td>8</td>\n",
       "      <td>256</td>\n",
       "      <td>2.2</td>\n",
       "      <td>1016</td>\n",
       "    </tr>\n",
       "  </tbody>\n",
       "</table>\n",
       "</div>"
      ],
      "text/plain": [
       "  Manufacturer  Category     Screen  GPU  OS  Cpu_core Screen_Size_inch  \\\n",
       "0         Dell         3    Full HD    1   1         3           39.624   \n",
       "1         Dell         3    Full HD    1   1         7           39.624   \n",
       "2         Dell         4  IPS Panel    2   1         5           33.782   \n",
       "3           HP         4    Full HD    2   1         7           39.624   \n",
       "4         Dell         3    Full HD    1   1         5           39.624   \n",
       "\n",
       "   Cpu_frequency  RAM_GB  Stroage_GB_SSD Weight_kg  Price  \n",
       "0            2.0       4             256       2.2    634  \n",
       "1            2.7       8             256       2.2    946  \n",
       "2            1.6       8             128      1.22   1244  \n",
       "3            1.8       8             256      1.91    837  \n",
       "4            1.6       8             256       2.2   1016  "
      ]
     },
     "execution_count": 14,
     "metadata": {},
     "output_type": "execute_result"
    }
   ],
   "source": [
    "# df[['Screen_Sice_inch']]=np.round(df[['Screen_Size_cm']],2)\n",
    "df.head()"
   ]
  },
  {
   "cell_type": "code",
   "execution_count": 15,
   "id": "f76f878a",
   "metadata": {},
   "outputs": [
    {
     "data": {
      "text/plain": [
       "Manufacturer        0\n",
       "Category            0\n",
       "Screen              0\n",
       "GPU                 0\n",
       "OS                  0\n",
       "Cpu_core            0\n",
       "Screen_Size_inch    4\n",
       "Cpu_frequency       0\n",
       "RAM_GB              0\n",
       "Stroage_GB_SSD      0\n",
       "Weight_kg           5\n",
       "Price               0\n",
       "dtype: int64"
      ]
     },
     "execution_count": 15,
     "metadata": {},
     "output_type": "execute_result"
    }
   ],
   "source": [
    "df.isnull().sum()"
   ]
  },
  {
   "cell_type": "code",
   "execution_count": 16,
   "id": "c3bcc7cd",
   "metadata": {},
   "outputs": [],
   "source": [
    "avg_weight=df['Weight_kg'].astype('float').mean(axis=0)\n",
    "df['Weight_kg'].replace(np.nan,avg_weight,inplace=True)"
   ]
  },
  {
   "cell_type": "markdown",
   "id": "0f016b68",
   "metadata": {},
   "source": [
    "## exploratory data analysis"
   ]
  },
  {
   "cell_type": "code",
   "execution_count": 17,
   "id": "1599dcc2",
   "metadata": {},
   "outputs": [
    {
     "data": {
      "text/plain": [
       "(0.0, 3974.15)"
      ]
     },
     "execution_count": 17,
     "metadata": {},
     "output_type": "execute_result"
    },
    {
     "data": {
      "image/png": "[encoded data removed]",
      "text/plain": [
       "<Figure size 640x480 with 1 Axes>"
      ]
     },
     "metadata": {},
     "output_type": "display_data"
    }
   ],
   "source": [
    "sns.regplot(x=\"Cpu_frequency\", y=\"Price\",data=df)\n",
    "plt.ylim(0,)"
   ]
  },
  {
   "cell_type": "code",
   "execution_count": 20,
   "id": "49747d78",
   "metadata": {},
   "outputs": [
    {
     "name": "stdout",
     "output_type": "stream",
     "text": [
      "Index(['Manufacturer', 'Category', 'Screen', 'GPU', 'OS', 'Cpu_core',\n",
      "       'Screen_Size_inch', 'Cpu_frequency', 'RAM_GB', 'Stroage_GB_SSD',\n",
      "       'Weight_kg', 'Price'],\n",
      "      dtype='object')\n",
      "object\n",
      "int64\n",
      "float64\n",
      "int64\n"
     ]
    },
    {
     "data": {
      "image/png": "[encoded data removed]",
      "text/plain": [
       "<Figure size 640x480 with 1 Axes>"
      ]
     },
     "metadata": {},
     "output_type": "display_data"
    }
   ],
   "source": [
    "import matplotlib.pyplot as plt\n",
    "import seaborn as sns\n",
    "import pandas as pd\n",
    "\n",
    "# Check if the columns exist\n",
    "print(df.columns)\n",
    "\n",
    "# Check for non-numeric values in the columns\n",
    "print(df[\"Screen_Size_inch\"].dtype)\n",
    "print(df[\"Price\"].dtype)\n",
    "\n",
    "# Convert columns to numeric, coercing errors\n",
    "df[\"Screen_Size_inch\"] = pd.to_numeric(df[\"Screen_Size_inch\"], errors='coerce')\n",
    "df[\"Price\"] = pd.to_numeric(df[\"Price\"], errors='coerce')\n",
    "\n",
    "# Drop rows with NaN values in the specified columns\n",
    "df_cleaned = df.dropna(subset=[\"Screen_Size_inch\", \"Price\"])\n",
    "\n",
    "# Check the cleaned DataFrame\n",
    "print(df_cleaned[\"Screen_Size_inch\"].dtype)\n",
    "print(df_cleaned[\"Price\"].dtype)\n",
    "\n",
    "# Plot the data\n",
    "sns.regplot(x=\"Screen_Size_inch\", y=\"Price\", data=df_cleaned)\n",
    "\n",
    "# Set the y-axis limit\n",
    "plt.ylim(0, None)\n",
    "\n",
    "# Show the plot\n",
    "plt.show()\n"
   ]
  },
  {
   "cell_type": "code",
   "execution_count": 21,
   "id": "7a91101f",
   "metadata": {},
   "outputs": [
    {
     "data": {
      "text/plain": [
       "(0.0, 3974.15)"
      ]
     },
     "execution_count": 21,
     "metadata": {},
     "output_type": "execute_result"
    },
    {
     "data": {
      "image/png": "[encoded data removed]",
      "text/plain": [
       "<Figure size 640x480 with 1 Axes>"
      ]
     },
     "metadata": {},
     "output_type": "display_data"
    }
   ],
   "source": [
    "sns.regplot(x=\"Screen_Size_inch\",y=\"Price\",data=df)\n",
    "plt.ylim(0,)"
   ]
  },
  {
   "cell_type": "code",
   "execution_count": 22,
   "id": "86f64622",
   "metadata": {
    "scrolled": true
   },
   "outputs": [
    {
     "data": {
      "text/plain": [
       "(0.0, 3974.15)"
      ]
     },
     "execution_count": 22,
     "metadata": {},
     "output_type": "execute_result"
    },
    {
     "data": {
      "image/png": "[encoded data removed]",
      "text/plain": [
       "<Figure size 640x480 with 1 Axes>"
      ]
     },
     "metadata": {},
     "output_type": "display_data"
    }
   ],
   "source": [
    "df['Weight_kg']=pd.to_numeric(df['Weight_kg'],errors='coerce')\n",
    "\n",
    "sns.regplot(x = \"Weight_kg\",y = \"Price\",data = df)\n",
    "plt.ylim(0,)"
   ]
  },
  {
   "cell_type": "code",
   "execution_count": 23,
   "id": "5855f123",
   "metadata": {},
   "outputs": [
    {
     "name": "stdout",
     "output_type": "stream",
     "text": [
      "Correleration of price and Cpu_frequency is                 Cpu_frequency     Price\n",
      "Cpu_frequency       1.000000  0.363247\n",
      "Price               0.363247  1.000000\n",
      "Correleration of price and Screen_Size_inch is                    Screen_Size_inch     Price\n",
      "Screen_Size_inch          1.000000 -0.130568\n",
      "Price                    -0.130568  1.000000\n",
      "Correleration of price and Weight_kg is             Weight_kg     Price\n",
      "Weight_kg   1.000000 -0.052368\n",
      "Price      -0.052368  1.000000\n"
     ]
    }
   ],
   "source": [
    "for param in ['Cpu_frequency','Screen_Size_inch','Weight_kg']:\n",
    "    print(f\"Correleration of price and {param} is \",df[[param,\"Price\"]].corr())"
   ]
  },
  {
   "cell_type": "code",
   "execution_count": 24,
   "id": "200c5e2c",
   "metadata": {},
   "outputs": [
    {
     "data": {
      "text/plain": [
       "<Axes: xlabel='Category', ylabel='Price'>"
      ]
     },
     "execution_count": 24,
     "metadata": {},
     "output_type": "execute_result"
    },
    {
     "data": {
      "image/png": "[encoded data removed]",
      "text/plain": [
       "<Figure size 640x480 with 1 Axes>"
      ]
     },
     "metadata": {},
     "output_type": "display_data"
    }
   ],
   "source": [
    "sns.boxplot(x=\"Category\",y=\"Price\",data=df)"
   ]
  },
  {
   "cell_type": "code",
   "execution_count": 25,
   "id": "9f0643a6",
   "metadata": {},
   "outputs": [
    {
     "data": {
      "text/plain": [
       "<Axes: xlabel='GPU', ylabel='Price'>"
      ]
     },
     "execution_count": 25,
     "metadata": {},
     "output_type": "execute_result"
    },
    {
     "data": {
      "image/png": "[encoded data removed]",
      "text/plain": [
       "<Figure size 640x480 with 1 Axes>"
      ]
     },
     "metadata": {},
     "output_type": "display_data"
    }
   ],
   "source": [
    "sns.boxplot(x=\"GPU\",y=\"Price\",data=df)"
   ]
  },
  {
   "cell_type": "code",
   "execution_count": 26,
   "id": "8595ae09",
   "metadata": {},
   "outputs": [
    {
     "data": {
      "text/plain": [
       "<Axes: xlabel='OS', ylabel='Price'>"
      ]
     },
     "execution_count": 26,
     "metadata": {},
     "output_type": "execute_result"
    },
    {
     "data": {
      "image/png": "[encoded data removed]",
      "text/plain": [
       "<Figure size 640x480 with 1 Axes>"
      ]
     },
     "metadata": {},
     "output_type": "display_data"
    }
   ],
   "source": [
    "sns.boxplot(x=\"OS\",y=\"Price\",data=df)"
   ]
  },
  {
   "cell_type": "code",
   "execution_count": 27,
   "id": "a06c968b",
   "metadata": {},
   "outputs": [
    {
     "data": {
      "text/html": [
       "<div>\n",
       "<style scoped>\n",
       "    .dataframe tbody tr th:only-of-type {\n",
       "        vertical-align: middle;\n",
       "    }\n",
       "\n",
       "    .dataframe tbody tr th {\n",
       "        vertical-align: top;\n",
       "    }\n",
       "\n",
       "    .dataframe thead th {\n",
       "        text-align: right;\n",
       "    }\n",
       "</style>\n",
       "<table border=\"1\" class=\"dataframe\">\n",
       "  <thead>\n",
       "    <tr style=\"text-align: right;\">\n",
       "      <th></th>\n",
       "      <th>Manufacturer</th>\n",
       "      <th>Category</th>\n",
       "      <th>Screen</th>\n",
       "      <th>GPU</th>\n",
       "      <th>OS</th>\n",
       "      <th>Cpu_core</th>\n",
       "      <th>Screen_Size_inch</th>\n",
       "      <th>Cpu_frequency</th>\n",
       "      <th>RAM_GB</th>\n",
       "      <th>Stroage_GB_SSD</th>\n",
       "      <th>Weight_kg</th>\n",
       "      <th>Price</th>\n",
       "    </tr>\n",
       "  </thead>\n",
       "  <tbody>\n",
       "    <tr>\n",
       "      <th>0</th>\n",
       "      <td>Dell</td>\n",
       "      <td>3</td>\n",
       "      <td>Full HD</td>\n",
       "      <td>1</td>\n",
       "      <td>1</td>\n",
       "      <td>3</td>\n",
       "      <td>39.624</td>\n",
       "      <td>2.0</td>\n",
       "      <td>4</td>\n",
       "      <td>256</td>\n",
       "      <td>2.20</td>\n",
       "      <td>634</td>\n",
       "    </tr>\n",
       "    <tr>\n",
       "      <th>1</th>\n",
       "      <td>Dell</td>\n",
       "      <td>3</td>\n",
       "      <td>Full HD</td>\n",
       "      <td>1</td>\n",
       "      <td>1</td>\n",
       "      <td>7</td>\n",
       "      <td>39.624</td>\n",
       "      <td>2.7</td>\n",
       "      <td>8</td>\n",
       "      <td>256</td>\n",
       "      <td>2.20</td>\n",
       "      <td>946</td>\n",
       "    </tr>\n",
       "    <tr>\n",
       "      <th>2</th>\n",
       "      <td>Dell</td>\n",
       "      <td>4</td>\n",
       "      <td>IPS Panel</td>\n",
       "      <td>2</td>\n",
       "      <td>1</td>\n",
       "      <td>5</td>\n",
       "      <td>33.782</td>\n",
       "      <td>1.6</td>\n",
       "      <td>8</td>\n",
       "      <td>128</td>\n",
       "      <td>1.22</td>\n",
       "      <td>1244</td>\n",
       "    </tr>\n",
       "    <tr>\n",
       "      <th>3</th>\n",
       "      <td>HP</td>\n",
       "      <td>4</td>\n",
       "      <td>Full HD</td>\n",
       "      <td>2</td>\n",
       "      <td>1</td>\n",
       "      <td>7</td>\n",
       "      <td>39.624</td>\n",
       "      <td>1.8</td>\n",
       "      <td>8</td>\n",
       "      <td>256</td>\n",
       "      <td>1.91</td>\n",
       "      <td>837</td>\n",
       "    </tr>\n",
       "    <tr>\n",
       "      <th>4</th>\n",
       "      <td>Dell</td>\n",
       "      <td>3</td>\n",
       "      <td>Full HD</td>\n",
       "      <td>1</td>\n",
       "      <td>1</td>\n",
       "      <td>5</td>\n",
       "      <td>39.624</td>\n",
       "      <td>1.6</td>\n",
       "      <td>8</td>\n",
       "      <td>256</td>\n",
       "      <td>2.20</td>\n",
       "      <td>1016</td>\n",
       "    </tr>\n",
       "  </tbody>\n",
       "</table>\n",
       "</div>"
      ],
      "text/plain": [
       "  Manufacturer  Category     Screen  GPU  OS  Cpu_core  Screen_Size_inch  \\\n",
       "0         Dell         3    Full HD    1   1         3            39.624   \n",
       "1         Dell         3    Full HD    1   1         7            39.624   \n",
       "2         Dell         4  IPS Panel    2   1         5            33.782   \n",
       "3           HP         4    Full HD    2   1         7            39.624   \n",
       "4         Dell         3    Full HD    1   1         5            39.624   \n",
       "\n",
       "   Cpu_frequency  RAM_GB  Stroage_GB_SSD  Weight_kg  Price  \n",
       "0            2.0       4             256       2.20    634  \n",
       "1            2.7       8             256       2.20    946  \n",
       "2            1.6       8             128       1.22   1244  \n",
       "3            1.8       8             256       1.91    837  \n",
       "4            1.6       8             256       2.20   1016  "
      ]
     },
     "execution_count": 27,
     "metadata": {},
     "output_type": "execute_result"
    }
   ],
   "source": [
    "df.head()"
   ]
  },
  {
   "cell_type": "code",
   "execution_count": 28,
   "id": "48a498e8",
   "metadata": {},
   "outputs": [
    {
     "data": {
      "text/plain": [
       "<Axes: xlabel='Cpu_core', ylabel='Price'>"
      ]
     },
     "execution_count": 28,
     "metadata": {},
     "output_type": "execute_result"
    },
    {
     "data": {
      "image/png": "[encoded data removed]",
      "text/plain": [
       "<Figure size 640x480 with 1 Axes>"
      ]
     },
     "metadata": {},
     "output_type": "display_data"
    }
   ],
   "source": [
    "sns.boxplot(x=\"Cpu_core\",y=\"Price\",data=df)"
   ]
  },
  {
   "cell_type": "code",
   "execution_count": 29,
   "id": "2cad3ba8",
   "metadata": {},
   "outputs": [
    {
     "data": {
      "text/html": [
       "<div>\n",
       "<style scoped>\n",
       "    .dataframe tbody tr th:only-of-type {\n",
       "        vertical-align: middle;\n",
       "    }\n",
       "\n",
       "    .dataframe tbody tr th {\n",
       "        vertical-align: top;\n",
       "    }\n",
       "\n",
       "    .dataframe thead th {\n",
       "        text-align: right;\n",
       "    }\n",
       "</style>\n",
       "<table border=\"1\" class=\"dataframe\">\n",
       "  <thead>\n",
       "    <tr style=\"text-align: right;\">\n",
       "      <th></th>\n",
       "      <th>Manufacturer</th>\n",
       "      <th>Category</th>\n",
       "      <th>Screen</th>\n",
       "      <th>GPU</th>\n",
       "      <th>OS</th>\n",
       "      <th>Cpu_core</th>\n",
       "      <th>Screen_Size_inch</th>\n",
       "      <th>Cpu_frequency</th>\n",
       "      <th>RAM_GB</th>\n",
       "      <th>Stroage_GB_SSD</th>\n",
       "      <th>Weight_kg</th>\n",
       "      <th>Price</th>\n",
       "    </tr>\n",
       "  </thead>\n",
       "  <tbody>\n",
       "    <tr>\n",
       "      <th>count</th>\n",
       "      <td>237</td>\n",
       "      <td>237.000000</td>\n",
       "      <td>237</td>\n",
       "      <td>237.000000</td>\n",
       "      <td>237.000000</td>\n",
       "      <td>237.000000</td>\n",
       "      <td>233.000000</td>\n",
       "      <td>237.000000</td>\n",
       "      <td>237.000000</td>\n",
       "      <td>237.000000</td>\n",
       "      <td>237.000000</td>\n",
       "      <td>237.000000</td>\n",
       "    </tr>\n",
       "    <tr>\n",
       "      <th>unique</th>\n",
       "      <td>11</td>\n",
       "      <td>NaN</td>\n",
       "      <td>2</td>\n",
       "      <td>NaN</td>\n",
       "      <td>NaN</td>\n",
       "      <td>NaN</td>\n",
       "      <td>NaN</td>\n",
       "      <td>NaN</td>\n",
       "      <td>NaN</td>\n",
       "      <td>NaN</td>\n",
       "      <td>NaN</td>\n",
       "      <td>NaN</td>\n",
       "    </tr>\n",
       "    <tr>\n",
       "      <th>top</th>\n",
       "      <td>Dell</td>\n",
       "      <td>NaN</td>\n",
       "      <td>Full HD</td>\n",
       "      <td>NaN</td>\n",
       "      <td>NaN</td>\n",
       "      <td>NaN</td>\n",
       "      <td>NaN</td>\n",
       "      <td>NaN</td>\n",
       "      <td>NaN</td>\n",
       "      <td>NaN</td>\n",
       "      <td>NaN</td>\n",
       "      <td>NaN</td>\n",
       "    </tr>\n",
       "    <tr>\n",
       "      <th>freq</th>\n",
       "      <td>71</td>\n",
       "      <td>NaN</td>\n",
       "      <td>161</td>\n",
       "      <td>NaN</td>\n",
       "      <td>NaN</td>\n",
       "      <td>NaN</td>\n",
       "      <td>NaN</td>\n",
       "      <td>NaN</td>\n",
       "      <td>NaN</td>\n",
       "      <td>NaN</td>\n",
       "      <td>NaN</td>\n",
       "      <td>NaN</td>\n",
       "    </tr>\n",
       "    <tr>\n",
       "      <th>mean</th>\n",
       "      <td>NaN</td>\n",
       "      <td>3.202532</td>\n",
       "      <td>NaN</td>\n",
       "      <td>2.151899</td>\n",
       "      <td>1.059072</td>\n",
       "      <td>5.632911</td>\n",
       "      <td>37.276953</td>\n",
       "      <td>2.363291</td>\n",
       "      <td>7.881857</td>\n",
       "      <td>245.738397</td>\n",
       "      <td>1.863362</td>\n",
       "      <td>1464.388186</td>\n",
       "    </tr>\n",
       "    <tr>\n",
       "      <th>std</th>\n",
       "      <td>NaN</td>\n",
       "      <td>0.776450</td>\n",
       "      <td>NaN</td>\n",
       "      <td>0.639556</td>\n",
       "      <td>0.236258</td>\n",
       "      <td>1.243736</td>\n",
       "      <td>2.975637</td>\n",
       "      <td>0.409271</td>\n",
       "      <td>2.487845</td>\n",
       "      <td>34.832516</td>\n",
       "      <td>0.489826</td>\n",
       "      <td>574.956374</td>\n",
       "    </tr>\n",
       "    <tr>\n",
       "      <th>min</th>\n",
       "      <td>NaN</td>\n",
       "      <td>1.000000</td>\n",
       "      <td>NaN</td>\n",
       "      <td>1.000000</td>\n",
       "      <td>1.000000</td>\n",
       "      <td>3.000000</td>\n",
       "      <td>30.480000</td>\n",
       "      <td>1.200000</td>\n",
       "      <td>4.000000</td>\n",
       "      <td>128.000000</td>\n",
       "      <td>0.810000</td>\n",
       "      <td>527.000000</td>\n",
       "    </tr>\n",
       "    <tr>\n",
       "      <th>25%</th>\n",
       "      <td>NaN</td>\n",
       "      <td>3.000000</td>\n",
       "      <td>NaN</td>\n",
       "      <td>2.000000</td>\n",
       "      <td>1.000000</td>\n",
       "      <td>5.000000</td>\n",
       "      <td>35.560000</td>\n",
       "      <td>2.000000</td>\n",
       "      <td>8.000000</td>\n",
       "      <td>256.000000</td>\n",
       "      <td>1.470000</td>\n",
       "      <td>1068.000000</td>\n",
       "    </tr>\n",
       "    <tr>\n",
       "      <th>50%</th>\n",
       "      <td>NaN</td>\n",
       "      <td>3.000000</td>\n",
       "      <td>NaN</td>\n",
       "      <td>2.000000</td>\n",
       "      <td>1.000000</td>\n",
       "      <td>5.000000</td>\n",
       "      <td>38.100000</td>\n",
       "      <td>2.500000</td>\n",
       "      <td>8.000000</td>\n",
       "      <td>256.000000</td>\n",
       "      <td>1.863362</td>\n",
       "      <td>1333.000000</td>\n",
       "    </tr>\n",
       "    <tr>\n",
       "      <th>75%</th>\n",
       "      <td>NaN</td>\n",
       "      <td>4.000000</td>\n",
       "      <td>NaN</td>\n",
       "      <td>3.000000</td>\n",
       "      <td>1.000000</td>\n",
       "      <td>7.000000</td>\n",
       "      <td>39.624000</td>\n",
       "      <td>2.700000</td>\n",
       "      <td>8.000000</td>\n",
       "      <td>256.000000</td>\n",
       "      <td>2.200000</td>\n",
       "      <td>1777.000000</td>\n",
       "    </tr>\n",
       "    <tr>\n",
       "      <th>max</th>\n",
       "      <td>NaN</td>\n",
       "      <td>5.000000</td>\n",
       "      <td>NaN</td>\n",
       "      <td>3.000000</td>\n",
       "      <td>2.000000</td>\n",
       "      <td>7.000000</td>\n",
       "      <td>43.942000</td>\n",
       "      <td>2.900000</td>\n",
       "      <td>16.000000</td>\n",
       "      <td>256.000000</td>\n",
       "      <td>3.600000</td>\n",
       "      <td>3810.000000</td>\n",
       "    </tr>\n",
       "  </tbody>\n",
       "</table>\n",
       "</div>"
      ],
      "text/plain": [
       "       Manufacturer    Category   Screen         GPU          OS    Cpu_core  \\\n",
       "count           237  237.000000      237  237.000000  237.000000  237.000000   \n",
       "unique           11         NaN        2         NaN         NaN         NaN   \n",
       "top            Dell         NaN  Full HD         NaN         NaN         NaN   \n",
       "freq             71         NaN      161         NaN         NaN         NaN   \n",
       "mean            NaN    3.202532      NaN    2.151899    1.059072    5.632911   \n",
       "std             NaN    0.776450      NaN    0.639556    0.236258    1.243736   \n",
       "min             NaN    1.000000      NaN    1.000000    1.000000    3.000000   \n",
       "25%             NaN    3.000000      NaN    2.000000    1.000000    5.000000   \n",
       "50%             NaN    3.000000      NaN    2.000000    1.000000    5.000000   \n",
       "75%             NaN    4.000000      NaN    3.000000    1.000000    7.000000   \n",
       "max             NaN    5.000000      NaN    3.000000    2.000000    7.000000   \n",
       "\n",
       "        Screen_Size_inch  Cpu_frequency      RAM_GB  Stroage_GB_SSD  \\\n",
       "count         233.000000     237.000000  237.000000      237.000000   \n",
       "unique               NaN            NaN         NaN             NaN   \n",
       "top                  NaN            NaN         NaN             NaN   \n",
       "freq                 NaN            NaN         NaN             NaN   \n",
       "mean           37.276953       2.363291    7.881857      245.738397   \n",
       "std             2.975637       0.409271    2.487845       34.832516   \n",
       "min            30.480000       1.200000    4.000000      128.000000   \n",
       "25%            35.560000       2.000000    8.000000      256.000000   \n",
       "50%            38.100000       2.500000    8.000000      256.000000   \n",
       "75%            39.624000       2.700000    8.000000      256.000000   \n",
       "max            43.942000       2.900000   16.000000      256.000000   \n",
       "\n",
       "         Weight_kg        Price  \n",
       "count   237.000000   237.000000  \n",
       "unique         NaN          NaN  \n",
       "top            NaN          NaN  \n",
       "freq           NaN          NaN  \n",
       "mean      1.863362  1464.388186  \n",
       "std       0.489826   574.956374  \n",
       "min       0.810000   527.000000  \n",
       "25%       1.470000  1068.000000  \n",
       "50%       1.863362  1333.000000  \n",
       "75%       2.200000  1777.000000  \n",
       "max       3.600000  3810.000000  "
      ]
     },
     "execution_count": 29,
     "metadata": {},
     "output_type": "execute_result"
    }
   ],
   "source": [
    "df.describe(include=\"all\")"
   ]
  },
  {
   "cell_type": "code",
   "execution_count": 30,
   "id": "5db6ea6a",
   "metadata": {},
   "outputs": [
    {
     "name": "stdout",
     "output_type": "stream",
     "text": [
      "   GPU  Cpu_core        Price\n",
      "0    1         3   769.250000\n",
      "1    1         5   998.500000\n",
      "2    1         7  1167.941176\n",
      "3    2         3   785.076923\n",
      "4    2         5  1467.894118\n",
      "5    2         7  1744.621622\n",
      "6    3         3   784.000000\n",
      "7    3         5  1220.680000\n",
      "8    3         7  1945.097561\n"
     ]
    }
   ],
   "source": [
    "df_pivot = df[['GPU','Cpu_core','Price']]\n",
    "group_test=df_pivot.groupby(['GPU','Cpu_core'],as_index=False).mean()\n",
    "print(group_test)"
   ]
  },
  {
   "cell_type": "code",
   "execution_count": 31,
   "id": "752d1ad9",
   "metadata": {},
   "outputs": [
    {
     "name": "stdout",
     "output_type": "stream",
     "text": [
      "               Price                          \n",
      "Cpu_core           3            5            7\n",
      "GPU                                           \n",
      "1         769.250000   998.500000  1167.941176\n",
      "2         785.076923  1467.894118  1744.621622\n",
      "3         784.000000  1220.680000  1945.097561\n"
     ]
    }
   ],
   "source": [
    "grouped_pivot = group_test.pivot(index='GPU',columns='Cpu_core')\n",
    "\n",
    "print(grouped_pivot)"
   ]
  },
  {
   "cell_type": "code",
   "execution_count": 32,
   "id": "312394d8",
   "metadata": {},
   "outputs": [
    {
     "data": {
      "image/png": "[encoded data removed]",
      "text/plain": [
       "<Figure size 640x480 with 2 Axes>"
      ]
     },
     "metadata": {},
     "output_type": "display_data"
    }
   ],
   "source": [
    "fig,ax=plt.subplots()\n",
    "im=ax.pcolor(grouped_pivot,cmap='RdBu')\n",
    "\n",
    "#label names\n",
    "row_labels = grouped_pivot.columns.levels[1]\n",
    "col_labels = grouped_pivot.index\n",
    "\n",
    "#move ticks and labels tothe center\n",
    "ax.set_xticks(np.arange(grouped_pivot.shape[1])+ 0.5,minor=False)\n",
    "\n",
    "ax.set_xticks(np.arange(grouped_pivot.shape[0])+0.5,minor=False)\n",
    "\n",
    "#insert labels\n",
    "\n",
    "ax.set_xticklabels(row_labels,minor=False)\n",
    "ax.set_xticklabels(col_labels,minor=False)\n",
    "\n",
    "fig.colorbar(im);"
   ]
  },
  {
   "cell_type": "code",
   "execution_count": 33,
   "id": "a8ca6aa8",
   "metadata": {},
   "outputs": [
    {
     "data": {
      "text/html": [
       "<div>\n",
       "<style scoped>\n",
       "    .dataframe tbody tr th:only-of-type {\n",
       "        vertical-align: middle;\n",
       "    }\n",
       "\n",
       "    .dataframe tbody tr th {\n",
       "        vertical-align: top;\n",
       "    }\n",
       "\n",
       "    .dataframe thead th {\n",
       "        text-align: right;\n",
       "    }\n",
       "</style>\n",
       "<table border=\"1\" class=\"dataframe\">\n",
       "  <thead>\n",
       "    <tr style=\"text-align: right;\">\n",
       "      <th></th>\n",
       "      <th>Manufacturer</th>\n",
       "      <th>Category</th>\n",
       "      <th>Screen</th>\n",
       "      <th>GPU</th>\n",
       "      <th>OS</th>\n",
       "      <th>Cpu_core</th>\n",
       "      <th>Screen_Size_inch</th>\n",
       "      <th>Cpu_frequency</th>\n",
       "      <th>RAM_GB</th>\n",
       "      <th>Stroage_GB_SSD</th>\n",
       "      <th>Weight_kg</th>\n",
       "      <th>Price</th>\n",
       "    </tr>\n",
       "  </thead>\n",
       "  <tbody>\n",
       "    <tr>\n",
       "      <th>0</th>\n",
       "      <td>Dell</td>\n",
       "      <td>3</td>\n",
       "      <td>Full HD</td>\n",
       "      <td>1</td>\n",
       "      <td>1</td>\n",
       "      <td>3</td>\n",
       "      <td>39.624</td>\n",
       "      <td>2.0</td>\n",
       "      <td>4</td>\n",
       "      <td>256</td>\n",
       "      <td>2.20</td>\n",
       "      <td>634</td>\n",
       "    </tr>\n",
       "    <tr>\n",
       "      <th>1</th>\n",
       "      <td>Dell</td>\n",
       "      <td>3</td>\n",
       "      <td>Full HD</td>\n",
       "      <td>1</td>\n",
       "      <td>1</td>\n",
       "      <td>7</td>\n",
       "      <td>39.624</td>\n",
       "      <td>2.7</td>\n",
       "      <td>8</td>\n",
       "      <td>256</td>\n",
       "      <td>2.20</td>\n",
       "      <td>946</td>\n",
       "    </tr>\n",
       "    <tr>\n",
       "      <th>2</th>\n",
       "      <td>Dell</td>\n",
       "      <td>4</td>\n",
       "      <td>IPS Panel</td>\n",
       "      <td>2</td>\n",
       "      <td>1</td>\n",
       "      <td>5</td>\n",
       "      <td>33.782</td>\n",
       "      <td>1.6</td>\n",
       "      <td>8</td>\n",
       "      <td>128</td>\n",
       "      <td>1.22</td>\n",
       "      <td>1244</td>\n",
       "    </tr>\n",
       "    <tr>\n",
       "      <th>3</th>\n",
       "      <td>HP</td>\n",
       "      <td>4</td>\n",
       "      <td>Full HD</td>\n",
       "      <td>2</td>\n",
       "      <td>1</td>\n",
       "      <td>7</td>\n",
       "      <td>39.624</td>\n",
       "      <td>1.8</td>\n",
       "      <td>8</td>\n",
       "      <td>256</td>\n",
       "      <td>1.91</td>\n",
       "      <td>837</td>\n",
       "    </tr>\n",
       "    <tr>\n",
       "      <th>4</th>\n",
       "      <td>Dell</td>\n",
       "      <td>3</td>\n",
       "      <td>Full HD</td>\n",
       "      <td>1</td>\n",
       "      <td>1</td>\n",
       "      <td>5</td>\n",
       "      <td>39.624</td>\n",
       "      <td>1.6</td>\n",
       "      <td>8</td>\n",
       "      <td>256</td>\n",
       "      <td>2.20</td>\n",
       "      <td>1016</td>\n",
       "    </tr>\n",
       "  </tbody>\n",
       "</table>\n",
       "</div>"
      ],
      "text/plain": [
       "  Manufacturer  Category     Screen  GPU  OS  Cpu_core  Screen_Size_inch  \\\n",
       "0         Dell         3    Full HD    1   1         3            39.624   \n",
       "1         Dell         3    Full HD    1   1         7            39.624   \n",
       "2         Dell         4  IPS Panel    2   1         5            33.782   \n",
       "3           HP         4    Full HD    2   1         7            39.624   \n",
       "4         Dell         3    Full HD    1   1         5            39.624   \n",
       "\n",
       "   Cpu_frequency  RAM_GB  Stroage_GB_SSD  Weight_kg  Price  \n",
       "0            2.0       4             256       2.20    634  \n",
       "1            2.7       8             256       2.20    946  \n",
       "2            1.6       8             128       1.22   1244  \n",
       "3            1.8       8             256       1.91    837  \n",
       "4            1.6       8             256       2.20   1016  "
      ]
     },
     "execution_count": 33,
     "metadata": {},
     "output_type": "execute_result"
    }
   ],
   "source": [
    "df.head(5)"
   ]
  },
  {
   "cell_type": "code",
   "execution_count": 34,
   "id": "249f8c53",
   "metadata": {},
   "outputs": [],
   "source": [
    "lm=LinearRegression()\n",
    "X=df[['Cpu_frequency']]\n",
    "y=df[['Price']]\n",
    "lm.fit(X,y)\n",
    "yhat=lm.predict(X)"
   ]
  },
  {
   "cell_type": "code",
   "execution_count": 35,
   "id": "cae5c251",
   "metadata": {},
   "outputs": [
    {
     "data": {
      "image/png": "[encoded data removed]",
      "text/plain": [
       "<Figure size 640x480 with 1 Axes>"
      ]
     },
     "metadata": {},
     "output_type": "display_data"
    }
   ],
   "source": [
    "ax1 = sns.distplot(df[\"Price\"],hist=False,color=\"r\",label=\"Actual value\")\n",
    "\n",
    "#create a distribution plot for predicted value\n",
    "\n",
    "sns.distplot(yhat, hist=False,color=\"b\",label=\"Fitted Values\",ax=ax1)\n",
    "\n",
    "plt.title(\"Actual vs Fitted Values for Price\")\n",
    "plt.xlabel(\"Price\")\n",
    "plt.ylabel(\"Proportion of laptops\")\n",
    "plt.legend(['Actual Value','Predicted value'])\n",
    "plt.show()"
   ]
  },
  {
   "cell_type": "code",
   "execution_count": 36,
   "id": "40216fa3",
   "metadata": {},
   "outputs": [
    {
     "name": "stdout",
     "output_type": "stream",
     "text": [
      "The r-square for linear Regression is:  0.13194803012989764\n",
      "\n",
      "The mean Squared erro of Price and predicted value is :  285745.348492732\n"
     ]
    }
   ],
   "source": [
    "mse = mean_squared_error(df['Price'],yhat)\n",
    "r2_score_slr = lm.score(X,y)\n",
    "print(\"The r-square for linear Regression is: \",r2_score_slr)\n",
    "print()\n",
    "print(\"The mean Squared erro of Price and predicted value is : \",mse)"
   ]
  },
  {
   "cell_type": "code",
   "execution_count": 41,
   "id": "6ecace96",
   "metadata": {},
   "outputs": [
    {
     "name": "stdout",
     "output_type": "stream",
     "text": [
      "Column names in the DataFrame:\n",
      "Index(['Manufacturer', 'Category', 'Screen', 'GPU', 'OS', 'Cpu_core',\n",
      "       'Screen_Size_inch', 'Cpu_frequency', 'RAM_GB', 'Stroage_GB_SSD',\n",
      "       'Weight_kg', 'Price'],\n",
      "      dtype='object')\n",
      "Feature 'Storage_GB' is not in the DataFrame.\n",
      "Feature 'CPU_cores' is not in the DataFrame.\n",
      "R^2 score: 0.4945020339848183\n"
     ]
    },
    {
     "data": {
      "image/png": "[encoded data removed]",
      "text/plain": [
       "<Figure size 640x480 with 1 Axes>"
      ]
     },
     "metadata": {},
     "output_type": "display_data"
    }
   ],
   "source": [
    "import pandas as pd\n",
    "from sklearn.linear_model import LinearRegression\n",
    "from sklearn.model_selection import train_test_split\n",
    "import matplotlib.pyplot as plt\n",
    "\n",
    "# Example DataFrame (replace with your actual DataFrame)\n",
    "# df = pd.read_csv('your_data.csv')  # Load your data\n",
    "\n",
    "# Verify the column names\n",
    "print(\"Column names in the DataFrame:\")\n",
    "print(df.columns)\n",
    "\n",
    "# Define the features based on the actual column names in your DataFrame\n",
    "features = ['Cpu_frequency', 'RAM_GB', 'Storage_GB', 'CPU_cores', 'OS', 'GPU', 'Category']\n",
    "\n",
    "# Verify if the adjusted features exist in the DataFrame\n",
    "for feature in features:\n",
    "    if feature not in df.columns:\n",
    "        print(f\"Feature '{feature}' is not in the DataFrame.\")\n",
    "\n",
    "# Remove non-existing features from the list\n",
    "features = [feature for feature in features if feature in df.columns]\n",
    "\n",
    "# Select the features and target\n",
    "X = df[features]\n",
    "y = df['Price']  # Replace 'Price' with your actual target column name\n",
    "\n",
    "# One-hot encode categorical variables\n",
    "X_encoded = pd.get_dummies(X, columns=['OS', 'GPU', 'Category'])\n",
    "\n",
    "# Split the data into training and test sets\n",
    "X_train, X_test, y_train, y_test = train_test_split(X_encoded, y, test_size=0.2, random_state=42)\n",
    "\n",
    "# Create the Linear Regression model\n",
    "lm1 = LinearRegression()\n",
    "\n",
    "# Fit the model\n",
    "lm1.fit(X_train, y_train)\n",
    "\n",
    "# Make predictions\n",
    "y_pred = lm1.predict(X_test)\n",
    "\n",
    "# Print the R^2 score to evaluate the model\n",
    "print(f\"R^2 score: {lm1.score(X_test, y_test)}\")\n",
    "\n",
    "# Optional: Plot predictions vs actual values\n",
    "plt.scatter(y_test, y_pred)\n",
    "plt.xlabel(\"Actual Prices\")\n",
    "plt.ylabel(\"Predicted Prices\")\n",
    "plt.title(\"Actual vs Predicted Prices\")\n",
    "plt.show()\n"
   ]
  },
  {
   "cell_type": "code",
   "execution_count": 42,
   "id": "997bae4d",
   "metadata": {},
   "outputs": [
    {
     "data": {
      "text/plain": [
       "<bound method DataFrame.info of     Manufacturer  Category     Screen  GPU  OS  Cpu_core  Screen_Size_inch  \\\n",
       "0           Dell         3    Full HD    1   1         3            39.624   \n",
       "1           Dell         3    Full HD    1   1         7            39.624   \n",
       "2           Dell         4  IPS Panel    2   1         5            33.782   \n",
       "3             HP         4    Full HD    2   1         7            39.624   \n",
       "4           Dell         3    Full HD    1   1         5            39.624   \n",
       "..           ...       ...        ...  ...  ..       ...               ...   \n",
       "232       Lenovo         4  IPS Panel    2   1         7            35.560   \n",
       "233      Toshiba         3    Full HD    2   1         5            33.782   \n",
       "234       Lenovo         4  IPS Panel    2   1         5            30.480   \n",
       "235       Lenovo         3    Full HD    3   1         5            39.624   \n",
       "236      Toshiba         3    Full HD    2   1         5            35.560   \n",
       "\n",
       "     Cpu_frequency  RAM_GB  Stroage_GB_SSD  Weight_kg  Price  \n",
       "0              2.0       4             256       2.20    634  \n",
       "1              2.7       8             256       2.20    946  \n",
       "2              1.6       8             128       1.22   1244  \n",
       "3              1.8       8             256       1.91    837  \n",
       "4              1.6       8             256       2.20   1016  \n",
       "..             ...     ...             ...        ...    ...  \n",
       "232            2.6       8             256       1.70   1891  \n",
       "233            2.4       8             256       1.20   1950  \n",
       "234            2.6       8             256       1.36   2236  \n",
       "235            2.5       6             256       2.40    883  \n",
       "236            2.3       8             256       1.95   1499  \n",
       "\n",
       "[237 rows x 12 columns]>"
      ]
     },
     "execution_count": 42,
     "metadata": {},
     "output_type": "execute_result"
    }
   ],
   "source": [
    "df.info"
   ]
  },
  {
   "cell_type": "markdown",
   "id": "51908bae",
   "metadata": {},
   "source": [
    "## Polynomial Regression"
   ]
  },
  {
   "cell_type": "code",
   "execution_count": 46,
   "id": "48da3913",
   "metadata": {
    "scrolled": true
   },
   "outputs": [
    {
     "name": "stdout",
     "output_type": "stream",
     "text": [
      "Length of X: 1185\n",
      "Length of y: 237\n",
      "Error: X and y do not have the same length.\n"
     ]
    }
   ],
   "source": [
    "import numpy as np\n",
    "import pandas as pd\n",
    "\n",
    "# Assuming X and y are initially Pandas Series or DataFrames\n",
    "X = X.to_numpy().flatten() if hasattr(X, 'to_numpy') else X.flatten()\n",
    "y = y.to_numpy().flatten() if hasattr(y, 'to_numpy') else y.flatten()\n",
    "\n",
    "# Check lengths of X and y\n",
    "print(f\"Length of X: {len(X)}\")\n",
    "print(f\"Length of y: {len(y)}\")\n",
    "\n",
    "# Ensure that X and y have the same length\n",
    "if len(X) == len(y):\n",
    "    f1 = np.polyfit(X, y, 1)\n",
    "    p1 = np.poly1d(f1)\n",
    "    \n",
    "    f3 = np.polyfit(X, y, 3)\n",
    "    p3 = np.poly1d(f3)\n",
    "    \n",
    "    f5 = np.polyfit(X, y, 5)\n",
    "    p5 = np.poly1d(f5)\n",
    "    \n",
    "    print(\"Polynomial fits were successful.\")\n",
    "else:\n",
    "    print(\"Error: X and y do not have the same length.\")\n"
   ]
  },
  {
   "cell_type": "code",
   "execution_count": 49,
   "id": "94a582b0",
   "metadata": {},
   "outputs": [],
   "source": [
    "def PlotPolly(model, independent_variable, dependent_variabble, Name):\n",
    "    x_new = np.linspace(independent_variable.min(),independent_variable.max(),100)\n",
    "    y_new = model(x_new)\n",
    "\n",
    "    plt.plot(independent_variable, dependent_variabble, '.', x_new, y_new, '-')\n",
    "    plt.title(f'Polynomial Fit for Price ~ {Name}')\n",
    "    ax = plt.gca()\n",
    "    ax.set_facecolor((0.898, 0.898, 0.898))\n",
    "    fig = plt.gcf()\n",
    "    plt.xlabel(Name)\n",
    "    plt.ylabel('Price of laptops')"
   ]
  },
  {
   "cell_type": "markdown",
   "id": "778a9378",
   "metadata": {},
   "source": [
    "##pipeline"
   ]
  },
  {
   "cell_type": "code",
   "execution_count": 51,
   "id": "9725ba76",
   "metadata": {
    "scrolled": true
   },
   "outputs": [
    {
     "name": "stdout",
     "output_type": "stream",
     "text": [
      "Predictions: [1. 2. 3. 4. 5.]\n"
     ]
    }
   ],
   "source": [
    "import numpy as np\n",
    "import pandas as pd\n",
    "from sklearn.pipeline import Pipeline\n",
    "from sklearn.preprocessing import StandardScaler, PolynomialFeatures\n",
    "from sklearn.linear_model import LinearRegression\n",
    "\n",
    "# Define and prepare Z, for example, if Z is similar to X\n",
    "# Replace this with your actual initialization of Z\n",
    "# Assuming Z is a DataFrame or a Series\n",
    "Z = pd.DataFrame({\n",
    "    'feature1': [1, 2, 3, 4, 5],\n",
    "    'feature2': [2, 3, 4, 5, 6]\n",
    "})\n",
    "y = pd.Series([1, 2, 3, 4, 5])\n",
    "\n",
    "# Ensure Z is a numpy array and convert to float\n",
    "Z = Z.to_numpy().astype(float)\n",
    "y = y.to_numpy().astype(float)\n",
    "\n",
    "# Define the pipeline\n",
    "Input = [('scale', StandardScaler()), ('polynomial', PolynomialFeatures(include_bias=False)), ('model', LinearRegression())]\n",
    "pipe = Pipeline(Input)\n",
    "\n",
    "# Fit the pipeline\n",
    "pipe.fit(Z, y)\n",
    "\n",
    "# Predict using the pipeline\n",
    "ypipe = pipe.predict(Z)\n",
    "\n",
    "print(\"Predictions:\", ypipe)\n"
   ]
  }
 ],
 "metadata": {
  "kernelspec": {
   "display_name": "Python 3 (ipykernel)",
   "language": "python",
   "name": "python3"
  },
  "language_info": {
   "codemirror_mode": {
    "name": "ipython",
    "version": 3
   },
   "file_extension": ".py",
   "mimetype": "text/x-python",
   "name": "python",
   "nbconvert_exporter": "python",
   "pygments_lexer": "ipython3",
   "version": "3.11.5"
  }
 },
 "nbformat": 4,
 "nbformat_minor": 5
}
